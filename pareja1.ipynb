import pandas as pd
import numpy as np
import matplotlib.pyplot as plt
from sklearn.model_selection import train_test_split
from sklearn.model_selection import GridSearchCV
from sklearn.preprocessing import StandardScaler
from sklearn.linear_model import LogisticRegression
from sklearn.naive_bayes import GaussianNB
from sklearn.discriminant_analysis import LinearDiscriminantAnalysis, QuadraticDiscriminantAnalysis
from sklearn.neighbors import KNeighborsClassifier
from sklearn.pipeline import Pipeline
from sklearn.metrics import accuracy_score, classification_report

ruta = "C:\\Users\\dario\\OneDrive\\Escritorio\\Unab\\Inferencia y Patrones\\TP1\\winequality-red.csv"
vinos = pd.read_csv(ruta, sep = ';')

X = vinos[["volatile acidity", "chlorides",
                          "free sulfur dioxide", "total sulfur dioxide",
                          "pH", "sulphates", "alcohol"]]
y = vinos[["quality"]]

X_train, X_test, y_train, y_test = train_test_split(X, y, 
                                                    test_size= 0.2, 
                                                    random_state= 42)

parametros_grid = {
       "knn__n_neighbors": list(range(1, 31)),
        "knn__metric": ["euclidean", "manhattan"]
        }

pipe = Pipeline([
    ("scaler", StandardScaler()),
    ("knn", KNeighborsClassifier())
])

best_knn = GridSearchCV(pipe, parametros_grid, cv = 5, scoring= "accuracy")
best_knn.fit(X_train,y_train)


y_pred = best_knn.predict(X_test)
print("Accuracy obtenido: ", accuracy_score(y_test, y_pred))
print("**********")
print(classification_report(y_test, y_pred))

best_knn.best_params_

for metrica in resultados_filtrados["param_knn__metric"].unique():
    data_final = resultados_filtrados[resultados_filtrados["param_knn__metric"] == metrica]
    plt.plot(data_final["param_knn__n_neighbors"], data_final["mean_test_score"], label=f"Distancia: {metrica}", marker='o')
    plt.xlabel("Cantidad de Vecinos")
    plt.ylabel("Score Obtenido")
    plt.title("Comparación entre la selección de vecinos y el Score obtenido")

